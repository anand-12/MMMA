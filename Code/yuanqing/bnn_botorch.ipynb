{
 "cells": [
  {
   "cell_type": "code",
   "id": "initial_id",
   "metadata": {
    "collapsed": true,
    "ExecuteTime": {
     "end_time": "2024-07-09T09:23:05.394328Z",
     "start_time": "2024-07-09T09:22:59.890198Z"
    }
   },
   "source": [
    "import torch\n",
    "import torch.nn as nn\n",
    "import pyro\n",
    "import pyro.distributions as dist\n",
    "from pyro.infer import SVI, Trace_ELBO\n",
    "from pyro.optim import Adam\n",
    "from botorch.acquisition import UpperConfidenceBound\n",
    "from botorch.optim import optimize_acqf"
   ],
   "outputs": [],
   "execution_count": 1
  },
  {
   "metadata": {
    "ExecuteTime": {
     "end_time": "2024-07-09T09:43:43.986294Z",
     "start_time": "2024-07-09T09:43:38.964924Z"
    }
   },
   "cell_type": "code",
   "source": [
    "import torch\n",
    "import torch.nn as nn\n",
    "import pyro\n",
    "import pyro.distributions as dist\n",
    "from pyro.infer import SVI, Trace_ELBO\n",
    "from pyro.optim import Adam\n",
    "from botorch.acquisition import UpperConfidenceBound\n",
    "from botorch.optim import optimize_acqf\n",
    "\n",
    "# 定义贝叶斯神经网络\n",
    "class BayesianNN(nn.Module):\n",
    "    def __init__(self, input_dim, hidden_dim, output_dim):\n",
    "        super(BayesianNN, self).__init__()\n",
    "        self.fc1 = nn.Linear(input_dim, hidden_dim)\n",
    "        self.fc2 = nn.Linear(hidden_dim, hidden_dim)\n",
    "        self.fc3 = nn.Linear(hidden_dim, output_dim)\n",
    "\n",
    "    def forward(self, x):\n",
    "        x = torch.relu(self.fc1(x))\n",
    "        x = torch.relu(self.fc2(x))\n",
    "        x = self.fc3(x)\n",
    "        return x\n",
    "\n",
    "# 初始化贝叶斯神经网络\n",
    "input_dim = 1\n",
    "hidden_dim = 50\n",
    "output_dim = 1\n",
    "bnn = BayesianNN(input_dim, hidden_dim, output_dim)\n",
    "\n",
    "# 定义模型和导数\n",
    "def model(x, y):\n",
    "    priors = {\n",
    "        'fc1.weight': dist.Normal(0, 1).expand([hidden_dim, input_dim]).to_event(2),\n",
    "        'fc1.bias': dist.Normal(0, 1).expand([hidden_dim]).to_event(1),\n",
    "        'fc2.weight': dist.Normal(0, 1).expand([hidden_dim, hidden_dim]).to_event(2),\n",
    "        'fc2.bias': dist.Normal(0, 1).expand([hidden_dim]).to_event(1),\n",
    "        'fc3.weight': dist.Normal(0, 1).expand([output_dim, hidden_dim]).to_event(2),\n",
    "        'fc3.bias': dist.Normal(0, 1).expand([output_dim]).to_event(1),\n",
    "    }\n",
    "    lifted_module = pyro.random_module(\"module\", bnn, priors)\n",
    "    lifted_reg_model = lifted_module()\n",
    "    with pyro.plate(\"data\", len(x)):\n",
    "        prediction = lifted_reg_model(x).squeeze(-1)\n",
    "        pyro.sample(\"obs\", dist.Normal(prediction, 0.1).to_event(1), obs=y)\n",
    "\n",
    "def guide(x, y):\n",
    "    priors = {\n",
    "        'fc1.weight': dist.Normal(0, 1).expand([hidden_dim, input_dim]).to_event(2),\n",
    "        'fc1.bias': dist.Normal(0, 1).expand([hidden_dim]).to_event(1),\n",
    "        'fc2.weight': dist.Normal(0, 1).expand([hidden_dim, hidden_dim]).to_event(2),\n",
    "        'fc2.bias': dist.Normal(0, 1).expand([hidden_dim]).to_event(1),\n",
    "        'fc3.weight': dist.Normal(0, 1).expand([output_dim, hidden_dim]).to_event(2),\n",
    "        'fc3.bias': dist.Normal(0, 1).expand([output_dim]).to_event(1),\n",
    "    }\n",
    "    lifted_module = pyro.random_module(\"module\", bnn, priors)\n",
    "    return lifted_module()\n",
    "\n",
    "# 生成一些示例数据\n",
    "train_x = torch.linspace(0, 1, 10).unsqueeze(-1)\n",
    "train_y = torch.sin(train_x * (2 * torch.pi)) + 0.2 * torch.randn(train_x.size())\n",
    "\n",
    "# 设置Pyro优化器和推断算法\n",
    "optim = Adam({\"lr\": 0.01})\n",
    "svi = SVI(model, guide, optim, loss=Trace_ELBO())\n",
    "\n",
    "# 训练贝叶斯神经网络\n",
    "num_iterations = 1000\n",
    "for _ in range(num_iterations):\n",
    "    loss = svi.step(train_x, train_y)\n",
    "\n",
    "# 使用贝叶斯神经网络进行贝叶斯优化\n",
    "def bnn_predict(x):\n",
    "    sampled_models = [guide(None, None)() for _ in range(100)]\n",
    "    yhats = torch.stack([model(x).forward(x).detach() for model in sampled_models])\n",
    "    return yhats.mean(0), yhats.std(0)\n",
    "\n",
    "# 定义获取函数（使用均值和标准差）\n",
    "def acquisition_function(x):\n",
    "    mean, std = bnn_predict(x)\n",
    "    return mean + 0.1 * std\n",
    "\n",
    "# 优化获取函数\n",
    "bounds = torch.stack([torch.zeros(1), torch.ones(1)])\n",
    "candidate, acq_value = optimize_acqf(\n",
    "    UpperConfidenceBound(bnn_predict(train_x), beta=0.1), bounds=bounds, q=1, num_restarts=5, raw_samples=20,\n",
    ")\n",
    "\n",
    "print(f\"Optimal input: {candidate}, acquisition value: {acq_value}\")\n",
    "\n"
   ],
   "id": "91771f8e7453d97d",
   "outputs": [
    {
     "name": "stderr",
     "output_type": "stream",
     "text": [
      "C:\\Users\\yuanq\\Anaconda3\\Lib\\site-packages\\pyro\\primitives.py:491: FutureWarning: The `random_module` primitive is deprecated, and will be removed in a future release. Use `pyro.nn.Module` to create Bayesian modules from `torch.nn.Module` instances.\n",
      "  warnings.warn(\n"
     ]
    },
    {
     "ename": "TypeError",
     "evalue": "BayesianNN.forward() missing 1 required positional argument: 'x'",
     "output_type": "error",
     "traceback": [
      "\u001B[1;31m---------------------------------------------------------------------------\u001B[0m",
      "\u001B[1;31mTypeError\u001B[0m                                 Traceback (most recent call last)",
      "Cell \u001B[1;32mIn[8], line 85\u001B[0m\n\u001B[0;32m     82\u001B[0m \u001B[38;5;66;03m# 优化获取函数\u001B[39;00m\n\u001B[0;32m     83\u001B[0m bounds \u001B[38;5;241m=\u001B[39m torch\u001B[38;5;241m.\u001B[39mstack([torch\u001B[38;5;241m.\u001B[39mzeros(\u001B[38;5;241m1\u001B[39m), torch\u001B[38;5;241m.\u001B[39mones(\u001B[38;5;241m1\u001B[39m)])\n\u001B[0;32m     84\u001B[0m candidate, acq_value \u001B[38;5;241m=\u001B[39m optimize_acqf(\n\u001B[1;32m---> 85\u001B[0m     UpperConfidenceBound(bnn_predict(train_x), beta\u001B[38;5;241m=\u001B[39m\u001B[38;5;241m0.1\u001B[39m), bounds\u001B[38;5;241m=\u001B[39mbounds, q\u001B[38;5;241m=\u001B[39m\u001B[38;5;241m1\u001B[39m, num_restarts\u001B[38;5;241m=\u001B[39m\u001B[38;5;241m5\u001B[39m, raw_samples\u001B[38;5;241m=\u001B[39m\u001B[38;5;241m20\u001B[39m,\n\u001B[0;32m     86\u001B[0m )\n\u001B[0;32m     88\u001B[0m \u001B[38;5;28mprint\u001B[39m(\u001B[38;5;124mf\u001B[39m\u001B[38;5;124m\"\u001B[39m\u001B[38;5;124mOptimal input: \u001B[39m\u001B[38;5;132;01m{\u001B[39;00mcandidate\u001B[38;5;132;01m}\u001B[39;00m\u001B[38;5;124m, acquisition value: \u001B[39m\u001B[38;5;132;01m{\u001B[39;00macq_value\u001B[38;5;132;01m}\u001B[39;00m\u001B[38;5;124m\"\u001B[39m)\n",
      "Cell \u001B[1;32mIn[8], line 73\u001B[0m, in \u001B[0;36mbnn_predict\u001B[1;34m(x)\u001B[0m\n\u001B[0;32m     72\u001B[0m \u001B[38;5;28;01mdef\u001B[39;00m \u001B[38;5;21mbnn_predict\u001B[39m(x):\n\u001B[1;32m---> 73\u001B[0m     sampled_models \u001B[38;5;241m=\u001B[39m [guide(\u001B[38;5;28;01mNone\u001B[39;00m, \u001B[38;5;28;01mNone\u001B[39;00m)() \u001B[38;5;28;01mfor\u001B[39;00m _ \u001B[38;5;129;01min\u001B[39;00m \u001B[38;5;28mrange\u001B[39m(\u001B[38;5;241m100\u001B[39m)]\n\u001B[0;32m     74\u001B[0m     yhats \u001B[38;5;241m=\u001B[39m torch\u001B[38;5;241m.\u001B[39mstack([model(x)\u001B[38;5;241m.\u001B[39mforward(x)\u001B[38;5;241m.\u001B[39mdetach() \u001B[38;5;28;01mfor\u001B[39;00m model \u001B[38;5;129;01min\u001B[39;00m sampled_models])\n\u001B[0;32m     75\u001B[0m     \u001B[38;5;28;01mreturn\u001B[39;00m yhats\u001B[38;5;241m.\u001B[39mmean(\u001B[38;5;241m0\u001B[39m), yhats\u001B[38;5;241m.\u001B[39mstd(\u001B[38;5;241m0\u001B[39m)\n",
      "Cell \u001B[1;32mIn[8], line 73\u001B[0m, in \u001B[0;36m<listcomp>\u001B[1;34m(.0)\u001B[0m\n\u001B[0;32m     72\u001B[0m \u001B[38;5;28;01mdef\u001B[39;00m \u001B[38;5;21mbnn_predict\u001B[39m(x):\n\u001B[1;32m---> 73\u001B[0m     sampled_models \u001B[38;5;241m=\u001B[39m [guide(\u001B[38;5;28;01mNone\u001B[39;00m, \u001B[38;5;28;01mNone\u001B[39;00m)() \u001B[38;5;28;01mfor\u001B[39;00m _ \u001B[38;5;129;01min\u001B[39;00m \u001B[38;5;28mrange\u001B[39m(\u001B[38;5;241m100\u001B[39m)]\n\u001B[0;32m     74\u001B[0m     yhats \u001B[38;5;241m=\u001B[39m torch\u001B[38;5;241m.\u001B[39mstack([model(x)\u001B[38;5;241m.\u001B[39mforward(x)\u001B[38;5;241m.\u001B[39mdetach() \u001B[38;5;28;01mfor\u001B[39;00m model \u001B[38;5;129;01min\u001B[39;00m sampled_models])\n\u001B[0;32m     75\u001B[0m     \u001B[38;5;28;01mreturn\u001B[39;00m yhats\u001B[38;5;241m.\u001B[39mmean(\u001B[38;5;241m0\u001B[39m), yhats\u001B[38;5;241m.\u001B[39mstd(\u001B[38;5;241m0\u001B[39m)\n",
      "File \u001B[1;32m~\\Anaconda3\\Lib\\site-packages\\torch\\nn\\modules\\module.py:1501\u001B[0m, in \u001B[0;36mModule._call_impl\u001B[1;34m(self, *args, **kwargs)\u001B[0m\n\u001B[0;32m   1496\u001B[0m \u001B[38;5;66;03m# If we don't have any hooks, we want to skip the rest of the logic in\u001B[39;00m\n\u001B[0;32m   1497\u001B[0m \u001B[38;5;66;03m# this function, and just call forward.\u001B[39;00m\n\u001B[0;32m   1498\u001B[0m \u001B[38;5;28;01mif\u001B[39;00m \u001B[38;5;129;01mnot\u001B[39;00m (\u001B[38;5;28mself\u001B[39m\u001B[38;5;241m.\u001B[39m_backward_hooks \u001B[38;5;129;01mor\u001B[39;00m \u001B[38;5;28mself\u001B[39m\u001B[38;5;241m.\u001B[39m_backward_pre_hooks \u001B[38;5;129;01mor\u001B[39;00m \u001B[38;5;28mself\u001B[39m\u001B[38;5;241m.\u001B[39m_forward_hooks \u001B[38;5;129;01mor\u001B[39;00m \u001B[38;5;28mself\u001B[39m\u001B[38;5;241m.\u001B[39m_forward_pre_hooks\n\u001B[0;32m   1499\u001B[0m         \u001B[38;5;129;01mor\u001B[39;00m _global_backward_pre_hooks \u001B[38;5;129;01mor\u001B[39;00m _global_backward_hooks\n\u001B[0;32m   1500\u001B[0m         \u001B[38;5;129;01mor\u001B[39;00m _global_forward_hooks \u001B[38;5;129;01mor\u001B[39;00m _global_forward_pre_hooks):\n\u001B[1;32m-> 1501\u001B[0m     \u001B[38;5;28;01mreturn\u001B[39;00m forward_call(\u001B[38;5;241m*\u001B[39margs, \u001B[38;5;241m*\u001B[39m\u001B[38;5;241m*\u001B[39mkwargs)\n\u001B[0;32m   1502\u001B[0m \u001B[38;5;66;03m# Do not call functions when jit is used\u001B[39;00m\n\u001B[0;32m   1503\u001B[0m full_backward_hooks, non_full_backward_hooks \u001B[38;5;241m=\u001B[39m [], []\n",
      "\u001B[1;31mTypeError\u001B[0m: BayesianNN.forward() missing 1 required positional argument: 'x'"
     ]
    }
   ],
   "execution_count": 8
  },
  {
   "metadata": {
    "ExecuteTime": {
     "end_time": "2024-07-09T09:25:42.617364Z",
     "start_time": "2024-07-09T09:25:37.408414Z"
    }
   },
   "cell_type": "code",
   "source": [
    "# 初始化贝叶斯神经网络\n",
    "input_dim = 1\n",
    "hidden_dim = 50\n",
    "output_dim = 1\n",
    "bnn = BayesianNN(input_dim, hidden_dim, output_dim)\n",
    "\n",
    "# 生成一些示例数据\n",
    "train_x = torch.linspace(0, 1, 10).unsqueeze(-1)\n",
    "train_y = torch.sin(train_x * (2 * torch.pi)) + 0.2 * torch.randn(train_x.size())\n",
    "\n",
    "# 设置Pyro优化器和推断算法\n",
    "optim = Adam({\"lr\": 0.01})\n",
    "svi = SVI(model, guide, optim, loss=Trace_ELBO())\n",
    "\n",
    "# 训练贝叶斯神经网络\n",
    "num_iterations = 1000\n",
    "for _ in range(num_iterations):\n",
    "    loss = svi.step(train_x, train_y)\n"
   ],
   "id": "e61ca5b5d5fa02b0",
   "outputs": [
    {
     "name": "stderr",
     "output_type": "stream",
     "text": [
      "C:\\Users\\yuanq\\Anaconda3\\Lib\\site-packages\\pyro\\primitives.py:491: FutureWarning: The `random_module` primitive is deprecated, and will be removed in a future release. Use `pyro.nn.Module` to create Bayesian modules from `torch.nn.Module` instances.\n",
      "  warnings.warn(\n"
     ]
    }
   ],
   "execution_count": 6
  },
  {
   "metadata": {
    "ExecuteTime": {
     "end_time": "2024-07-09T09:24:49.193650Z",
     "start_time": "2024-07-09T09:24:48.393672Z"
    }
   },
   "cell_type": "code",
   "source": [
    "# 使用贝叶斯神经网络进行贝叶斯优化\n",
    "def bnn_predict(x):\n",
    "    sampled_models = [guide(None, None)() for _ in range(100)]\n",
    "    yhats = torch.stack([model(x).detach() for model in sampled_models])\n",
    "    return yhats.mean(0), yhats.std(0)\n",
    "\n",
    "# 定义获取函数（使用均值和标准差）\n",
    "def acquisition_function(x):\n",
    "    mean, std = bnn_predict(x)\n",
    "    return mean + 0.1 * std\n",
    "\n",
    "# 优化获取函数\n",
    "bounds = torch.stack([torch.zeros(1), torch.ones(1)])\n",
    "candidate, acq_value = optimize_acqf(\n",
    "    acquisition_function, bounds=bounds, q=1, num_restarts=5, raw_samples=20,\n",
    ")\n",
    "\n",
    "print(f\"Optimal input: {candidate}, acquisition value: {acq_value}\")"
   ],
   "id": "a436d94f02497ffb",
   "outputs": [
    {
     "ename": "TypeError",
     "evalue": "BayesianNN.forward() missing 1 required positional argument: 'x'",
     "output_type": "error",
     "traceback": [
      "\u001B[1;31m---------------------------------------------------------------------------\u001B[0m",
      "\u001B[1;31mTypeError\u001B[0m                                 Traceback (most recent call last)",
      "Cell \u001B[1;32mIn[4], line 14\u001B[0m\n\u001B[0;32m     12\u001B[0m \u001B[38;5;66;03m# 优化获取函数\u001B[39;00m\n\u001B[0;32m     13\u001B[0m bounds \u001B[38;5;241m=\u001B[39m torch\u001B[38;5;241m.\u001B[39mstack([torch\u001B[38;5;241m.\u001B[39mzeros(\u001B[38;5;241m1\u001B[39m), torch\u001B[38;5;241m.\u001B[39mones(\u001B[38;5;241m1\u001B[39m)])\n\u001B[1;32m---> 14\u001B[0m candidate, acq_value \u001B[38;5;241m=\u001B[39m optimize_acqf(\n\u001B[0;32m     15\u001B[0m     acquisition_function, bounds\u001B[38;5;241m=\u001B[39mbounds, q\u001B[38;5;241m=\u001B[39m\u001B[38;5;241m1\u001B[39m, num_restarts\u001B[38;5;241m=\u001B[39m\u001B[38;5;241m5\u001B[39m, raw_samples\u001B[38;5;241m=\u001B[39m\u001B[38;5;241m20\u001B[39m,\n\u001B[0;32m     16\u001B[0m )\n\u001B[0;32m     18\u001B[0m \u001B[38;5;28mprint\u001B[39m(\u001B[38;5;124mf\u001B[39m\u001B[38;5;124m\"\u001B[39m\u001B[38;5;124mOptimal input: \u001B[39m\u001B[38;5;132;01m{\u001B[39;00mcandidate\u001B[38;5;132;01m}\u001B[39;00m\u001B[38;5;124m, acquisition value: \u001B[39m\u001B[38;5;132;01m{\u001B[39;00macq_value\u001B[38;5;132;01m}\u001B[39;00m\u001B[38;5;124m\"\u001B[39m)\n",
      "File \u001B[1;32m~\\Anaconda3\\Lib\\site-packages\\botorch\\optim\\optimize.py:562\u001B[0m, in \u001B[0;36moptimize_acqf\u001B[1;34m(acq_function, bounds, q, num_restarts, raw_samples, options, inequality_constraints, equality_constraints, nonlinear_inequality_constraints, fixed_features, post_processing_func, batch_initial_conditions, return_best_only, gen_candidates, sequential, ic_generator, timeout_sec, return_full_tree, retry_on_optimization_warning, **ic_gen_kwargs)\u001B[0m\n\u001B[0;32m    539\u001B[0m     gen_candidates \u001B[38;5;241m=\u001B[39m gen_candidates_scipy\n\u001B[0;32m    540\u001B[0m opt_acqf_inputs \u001B[38;5;241m=\u001B[39m OptimizeAcqfInputs(\n\u001B[0;32m    541\u001B[0m     acq_function\u001B[38;5;241m=\u001B[39macq_function,\n\u001B[0;32m    542\u001B[0m     bounds\u001B[38;5;241m=\u001B[39mbounds,\n\u001B[1;32m   (...)\u001B[0m\n\u001B[0;32m    560\u001B[0m     ic_gen_kwargs\u001B[38;5;241m=\u001B[39mic_gen_kwargs,\n\u001B[0;32m    561\u001B[0m )\n\u001B[1;32m--> 562\u001B[0m \u001B[38;5;28;01mreturn\u001B[39;00m _optimize_acqf(opt_acqf_inputs)\n",
      "File \u001B[1;32m~\\Anaconda3\\Lib\\site-packages\\botorch\\optim\\optimize.py:583\u001B[0m, in \u001B[0;36m_optimize_acqf\u001B[1;34m(opt_inputs)\u001B[0m\n\u001B[0;32m    580\u001B[0m     \u001B[38;5;28;01mreturn\u001B[39;00m _optimize_acqf_sequential_q(opt_inputs\u001B[38;5;241m=\u001B[39mopt_inputs)\n\u001B[0;32m    582\u001B[0m \u001B[38;5;66;03m# Batch optimization (including the case q=1)\u001B[39;00m\n\u001B[1;32m--> 583\u001B[0m \u001B[38;5;28;01mreturn\u001B[39;00m _optimize_acqf_batch(opt_inputs\u001B[38;5;241m=\u001B[39mopt_inputs)\n",
      "File \u001B[1;32m~\\Anaconda3\\Lib\\site-packages\\botorch\\optim\\optimize.py:274\u001B[0m, in \u001B[0;36m_optimize_acqf_batch\u001B[1;34m(opt_inputs)\u001B[0m\n\u001B[0;32m    271\u001B[0m     batch_initial_conditions \u001B[38;5;241m=\u001B[39m opt_inputs\u001B[38;5;241m.\u001B[39mbatch_initial_conditions\n\u001B[0;32m    272\u001B[0m \u001B[38;5;28;01melse\u001B[39;00m:\n\u001B[0;32m    273\u001B[0m     \u001B[38;5;66;03m# pyre-ignore[28]: Unexpected keyword argument `acq_function` to anonymous call.\u001B[39;00m\n\u001B[1;32m--> 274\u001B[0m     batch_initial_conditions \u001B[38;5;241m=\u001B[39m opt_inputs\u001B[38;5;241m.\u001B[39mget_ic_generator()(\n\u001B[0;32m    275\u001B[0m         acq_function\u001B[38;5;241m=\u001B[39mopt_inputs\u001B[38;5;241m.\u001B[39macq_function,\n\u001B[0;32m    276\u001B[0m         bounds\u001B[38;5;241m=\u001B[39mopt_inputs\u001B[38;5;241m.\u001B[39mbounds,\n\u001B[0;32m    277\u001B[0m         q\u001B[38;5;241m=\u001B[39mopt_inputs\u001B[38;5;241m.\u001B[39mq,\n\u001B[0;32m    278\u001B[0m         num_restarts\u001B[38;5;241m=\u001B[39mopt_inputs\u001B[38;5;241m.\u001B[39mnum_restarts,\n\u001B[0;32m    279\u001B[0m         raw_samples\u001B[38;5;241m=\u001B[39mopt_inputs\u001B[38;5;241m.\u001B[39mraw_samples,\n\u001B[0;32m    280\u001B[0m         fixed_features\u001B[38;5;241m=\u001B[39mopt_inputs\u001B[38;5;241m.\u001B[39mfixed_features,\n\u001B[0;32m    281\u001B[0m         options\u001B[38;5;241m=\u001B[39moptions,\n\u001B[0;32m    282\u001B[0m         inequality_constraints\u001B[38;5;241m=\u001B[39mopt_inputs\u001B[38;5;241m.\u001B[39minequality_constraints,\n\u001B[0;32m    283\u001B[0m         equality_constraints\u001B[38;5;241m=\u001B[39mopt_inputs\u001B[38;5;241m.\u001B[39mequality_constraints,\n\u001B[0;32m    284\u001B[0m         \u001B[38;5;241m*\u001B[39m\u001B[38;5;241m*\u001B[39mopt_inputs\u001B[38;5;241m.\u001B[39mic_gen_kwargs,\n\u001B[0;32m    285\u001B[0m     )\n\u001B[0;32m    287\u001B[0m batch_limit: \u001B[38;5;28mint\u001B[39m \u001B[38;5;241m=\u001B[39m options\u001B[38;5;241m.\u001B[39mget(\n\u001B[0;32m    288\u001B[0m     \u001B[38;5;124m\"\u001B[39m\u001B[38;5;124mbatch_limit\u001B[39m\u001B[38;5;124m\"\u001B[39m,\n\u001B[0;32m    289\u001B[0m     (\n\u001B[1;32m   (...)\u001B[0m\n\u001B[0;32m    293\u001B[0m     ),\n\u001B[0;32m    294\u001B[0m )\n\u001B[0;32m    296\u001B[0m \u001B[38;5;28;01mdef\u001B[39;00m \u001B[38;5;21m_optimize_batch_candidates\u001B[39m() \u001B[38;5;241m-\u001B[39m\u001B[38;5;241m>\u001B[39m Tuple[Tensor, Tensor, List[\u001B[38;5;167;01mWarning\u001B[39;00m]]:\n",
      "File \u001B[1;32m~\\Anaconda3\\Lib\\site-packages\\botorch\\optim\\initializers.py:418\u001B[0m, in \u001B[0;36mgen_batch_initial_conditions\u001B[1;34m(acq_function, bounds, q, num_restarts, raw_samples, fixed_features, options, inequality_constraints, equality_constraints, generator, fixed_X_fantasies)\u001B[0m\n\u001B[0;32m    416\u001B[0m \u001B[38;5;28;01mwhile\u001B[39;00m start_idx \u001B[38;5;241m<\u001B[39m X_rnd\u001B[38;5;241m.\u001B[39mshape[\u001B[38;5;241m0\u001B[39m]:\n\u001B[0;32m    417\u001B[0m     end_idx \u001B[38;5;241m=\u001B[39m \u001B[38;5;28mmin\u001B[39m(start_idx \u001B[38;5;241m+\u001B[39m batch_limit, X_rnd\u001B[38;5;241m.\u001B[39mshape[\u001B[38;5;241m0\u001B[39m])\n\u001B[1;32m--> 418\u001B[0m     Y_rnd_curr \u001B[38;5;241m=\u001B[39m acq_function(\n\u001B[0;32m    419\u001B[0m         X_rnd[start_idx:end_idx]\u001B[38;5;241m.\u001B[39mto(device\u001B[38;5;241m=\u001B[39mdevice)\n\u001B[0;32m    420\u001B[0m     )\u001B[38;5;241m.\u001B[39mcpu()\n\u001B[0;32m    421\u001B[0m     Y_rnd_list\u001B[38;5;241m.\u001B[39mappend(Y_rnd_curr)\n\u001B[0;32m    422\u001B[0m     start_idx \u001B[38;5;241m+\u001B[39m\u001B[38;5;241m=\u001B[39m batch_limit\n",
      "Cell \u001B[1;32mIn[4], line 9\u001B[0m, in \u001B[0;36macquisition_function\u001B[1;34m(x)\u001B[0m\n\u001B[0;32m      8\u001B[0m \u001B[38;5;28;01mdef\u001B[39;00m \u001B[38;5;21macquisition_function\u001B[39m(x):\n\u001B[1;32m----> 9\u001B[0m     mean, std \u001B[38;5;241m=\u001B[39m bnn_predict(x)\n\u001B[0;32m     10\u001B[0m     \u001B[38;5;28;01mreturn\u001B[39;00m mean \u001B[38;5;241m+\u001B[39m \u001B[38;5;241m0.1\u001B[39m \u001B[38;5;241m*\u001B[39m std\n",
      "Cell \u001B[1;32mIn[4], line 3\u001B[0m, in \u001B[0;36mbnn_predict\u001B[1;34m(x)\u001B[0m\n\u001B[0;32m      2\u001B[0m \u001B[38;5;28;01mdef\u001B[39;00m \u001B[38;5;21mbnn_predict\u001B[39m(x):\n\u001B[1;32m----> 3\u001B[0m     sampled_models \u001B[38;5;241m=\u001B[39m [guide(\u001B[38;5;28;01mNone\u001B[39;00m, \u001B[38;5;28;01mNone\u001B[39;00m)() \u001B[38;5;28;01mfor\u001B[39;00m _ \u001B[38;5;129;01min\u001B[39;00m \u001B[38;5;28mrange\u001B[39m(\u001B[38;5;241m100\u001B[39m)]\n\u001B[0;32m      4\u001B[0m     yhats \u001B[38;5;241m=\u001B[39m torch\u001B[38;5;241m.\u001B[39mstack([model(x)\u001B[38;5;241m.\u001B[39mdetach() \u001B[38;5;28;01mfor\u001B[39;00m model \u001B[38;5;129;01min\u001B[39;00m sampled_models])\n\u001B[0;32m      5\u001B[0m     \u001B[38;5;28;01mreturn\u001B[39;00m yhats\u001B[38;5;241m.\u001B[39mmean(\u001B[38;5;241m0\u001B[39m), yhats\u001B[38;5;241m.\u001B[39mstd(\u001B[38;5;241m0\u001B[39m)\n",
      "Cell \u001B[1;32mIn[4], line 3\u001B[0m, in \u001B[0;36m<listcomp>\u001B[1;34m(.0)\u001B[0m\n\u001B[0;32m      2\u001B[0m \u001B[38;5;28;01mdef\u001B[39;00m \u001B[38;5;21mbnn_predict\u001B[39m(x):\n\u001B[1;32m----> 3\u001B[0m     sampled_models \u001B[38;5;241m=\u001B[39m [guide(\u001B[38;5;28;01mNone\u001B[39;00m, \u001B[38;5;28;01mNone\u001B[39;00m)() \u001B[38;5;28;01mfor\u001B[39;00m _ \u001B[38;5;129;01min\u001B[39;00m \u001B[38;5;28mrange\u001B[39m(\u001B[38;5;241m100\u001B[39m)]\n\u001B[0;32m      4\u001B[0m     yhats \u001B[38;5;241m=\u001B[39m torch\u001B[38;5;241m.\u001B[39mstack([model(x)\u001B[38;5;241m.\u001B[39mdetach() \u001B[38;5;28;01mfor\u001B[39;00m model \u001B[38;5;129;01min\u001B[39;00m sampled_models])\n\u001B[0;32m      5\u001B[0m     \u001B[38;5;28;01mreturn\u001B[39;00m yhats\u001B[38;5;241m.\u001B[39mmean(\u001B[38;5;241m0\u001B[39m), yhats\u001B[38;5;241m.\u001B[39mstd(\u001B[38;5;241m0\u001B[39m)\n",
      "File \u001B[1;32m~\\Anaconda3\\Lib\\site-packages\\torch\\nn\\modules\\module.py:1501\u001B[0m, in \u001B[0;36mModule._call_impl\u001B[1;34m(self, *args, **kwargs)\u001B[0m\n\u001B[0;32m   1496\u001B[0m \u001B[38;5;66;03m# If we don't have any hooks, we want to skip the rest of the logic in\u001B[39;00m\n\u001B[0;32m   1497\u001B[0m \u001B[38;5;66;03m# this function, and just call forward.\u001B[39;00m\n\u001B[0;32m   1498\u001B[0m \u001B[38;5;28;01mif\u001B[39;00m \u001B[38;5;129;01mnot\u001B[39;00m (\u001B[38;5;28mself\u001B[39m\u001B[38;5;241m.\u001B[39m_backward_hooks \u001B[38;5;129;01mor\u001B[39;00m \u001B[38;5;28mself\u001B[39m\u001B[38;5;241m.\u001B[39m_backward_pre_hooks \u001B[38;5;129;01mor\u001B[39;00m \u001B[38;5;28mself\u001B[39m\u001B[38;5;241m.\u001B[39m_forward_hooks \u001B[38;5;129;01mor\u001B[39;00m \u001B[38;5;28mself\u001B[39m\u001B[38;5;241m.\u001B[39m_forward_pre_hooks\n\u001B[0;32m   1499\u001B[0m         \u001B[38;5;129;01mor\u001B[39;00m _global_backward_pre_hooks \u001B[38;5;129;01mor\u001B[39;00m _global_backward_hooks\n\u001B[0;32m   1500\u001B[0m         \u001B[38;5;129;01mor\u001B[39;00m _global_forward_hooks \u001B[38;5;129;01mor\u001B[39;00m _global_forward_pre_hooks):\n\u001B[1;32m-> 1501\u001B[0m     \u001B[38;5;28;01mreturn\u001B[39;00m forward_call(\u001B[38;5;241m*\u001B[39margs, \u001B[38;5;241m*\u001B[39m\u001B[38;5;241m*\u001B[39mkwargs)\n\u001B[0;32m   1502\u001B[0m \u001B[38;5;66;03m# Do not call functions when jit is used\u001B[39;00m\n\u001B[0;32m   1503\u001B[0m full_backward_hooks, non_full_backward_hooks \u001B[38;5;241m=\u001B[39m [], []\n",
      "\u001B[1;31mTypeError\u001B[0m: BayesianNN.forward() missing 1 required positional argument: 'x'"
     ]
    }
   ],
   "execution_count": 4
  },
  {
   "metadata": {},
   "cell_type": "code",
   "outputs": [],
   "execution_count": null,
   "source": "",
   "id": "b68de5d3e52ebda8"
  }
 ],
 "metadata": {
  "kernelspec": {
   "display_name": "Python 3",
   "language": "python",
   "name": "python3"
  },
  "language_info": {
   "codemirror_mode": {
    "name": "ipython",
    "version": 2
   },
   "file_extension": ".py",
   "mimetype": "text/x-python",
   "name": "python",
   "nbconvert_exporter": "python",
   "pygments_lexer": "ipython2",
   "version": "2.7.6"
  }
 },
 "nbformat": 4,
 "nbformat_minor": 5
}
